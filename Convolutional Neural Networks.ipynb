{
 "cells": [
  {
   "cell_type": "code",
   "execution_count": 1,
   "metadata": {},
   "outputs": [
    {
     "name": "stdout",
     "output_type": "stream",
     "text": [
      "hdf5 is not supported on this machine (please install/reinstall h5py for optimal experience)\n"
     ]
    }
   ],
   "source": [
    "import numpy as np #arry manipulation library\n",
    "import matplotlib.pyplot as plt #graphing library\n",
    "import tflearn #import ML library\n",
    "from tflearn.layers.core import input_data, dropout, fully_connected\n",
    "from tflearn.layers.normalization import local_response_normalization\n",
    "from tflearn.layers.conv import conv_2d, max_pool_2d #convolution, max pooling\n",
    "from tflearn.layers.estimator import regression\n",
    "import tflearn.datasets.mnist as mnist #import data"
   ]
  },
  {
   "cell_type": "code",
   "execution_count": 2,
   "metadata": {},
   "outputs": [
    {
     "name": "stdout",
     "output_type": "stream",
     "text": [
      "Extracting mnist/train-images-idx3-ubyte.gz\n",
      "Extracting mnist/train-labels-idx1-ubyte.gz\n",
      "Extracting mnist/t10k-images-idx3-ubyte.gz\n",
      "Extracting mnist/t10k-labels-idx1-ubyte.gz\n"
     ]
    }
   ],
   "source": [
    "x,y,test_x,test_y = mnist.load_data(one_hot = True)"
   ]
  },
  {
   "cell_type": "markdown",
   "metadata": {},
   "source": [
    "One Hot Encoding with 10\n",
    "\n",
    "0 -> [1,0,0,0,0,0,0,0,0,0]\n",
    "<br>\n",
    "1 -> [0,1,0,0,0,0,0,0,0,0]\n",
    "<br>\n",
    "2 -> [0,0,1,0,0,0,0,0,0,0]\n",
    "<br>\n",
    "3 -> [0,0,0,1,0,0,0,0,0,0]\n",
    "<br>\n",
    "4 -> [0,0,0,0,1,0,0,0,0,0]\n",
    "<br>\n",
    "5 -> [0,0,0,0,0,1,0,0,0,0]\n",
    "<br>\n",
    "6 -> [0,0,0,0,0,0,1,0,0,0]\n",
    "<br>\n",
    "7 -> [0,0,0,0,0,0,0,1,0,0]\n",
    "<br>\n",
    "8 -> [0,0,0,0,0,0,0,0,1,0]\n",
    "<br>\n",
    "9 -> [0,0,0,0,0,0,0,0,0,1]"
   ]
  },
  {
   "cell_type": "code",
   "execution_count": 4,
   "metadata": {},
   "outputs": [
    {
     "data": {
      "image/png": "[encoded data removed]",
      "text/plain": [
       "<matplotlib.figure.Figure at 0x115b10fd0>"
      ]
     },
     "metadata": {},
     "output_type": "display_data"
    }
   ],
   "source": [
    "image1 = x[10]\n",
    "image2 = x[4]\n",
    "image1 = np.array(image1)\n",
    "image2 = np.array(image2)\n",
    "image1 = image1.reshape(28,28)\n",
    "image2 = image2.reshape(28,28)\n",
    "plt.subplot(121)\n",
    "plt.title('{label}'.format(label=y[10]))\n",
    "plt.imshow(image1, cmap='gray')\n",
    "plt.subplot(122)\n",
    "plt.title('{label}'.format(label=y[4]))\n",
    "plt.imshow(image2, cmap='gray')\n",
    "plt.tight_layout()\n",
    "plt.show()"
   ]
  },
  {
   "cell_type": "code",
   "execution_count": 5,
   "metadata": {},
   "outputs": [
    {
     "name": "stdout",
     "output_type": "stream",
     "text": [
      "55000\n"
     ]
    }
   ],
   "source": [
    "print(x.shape[0])"
   ]
  },
  {
   "cell_type": "code",
   "execution_count": 6,
   "metadata": {
    "collapsed": true
   },
   "outputs": [],
   "source": [
    "x = x.reshape([-1, 28, 28, 1])\n",
    "test_x = test_x.reshape([-1, 28, 28, 1])"
   ]
  },
  {
   "cell_type": "code",
   "execution_count": 7,
   "metadata": {},
   "outputs": [
    {
     "name": "stdout",
     "output_type": "stream",
     "text": [
      "(55000, 28, 28, 1)\n"
     ]
    }
   ],
   "source": [
    "print(x.shape)"
   ]
  },
  {
   "cell_type": "markdown",
   "metadata": {},
   "source": [
    "<h1>Convolution</h1>\n",
    "\n",
    "http://setosa.io/ev/image-kernels/\n",
    "\n",
    "<h1> Subsampling by Max Pooling</h1>\n",
    "\n",
    "<h1> Rectifier <h1>\n",
    "\n",
    "\n"
   ]
  },
  {
   "cell_type": "markdown",
   "metadata": {},
   "source": [
    "<center>\n",
    "    <h1>Architecture</h1>\n",
    "    <img src=\"http://www.pyimagesearch.com/wp-content/uploads/2014/06/cnn_architecture.jpg\" height=\"900\" width=\"900\">\n",
    "</center>"
   ]
  },
  {
   "cell_type": "code",
   "execution_count": 20,
   "metadata": {
    "collapsed": true
   },
   "outputs": [],
   "source": [
    "# Building the convolutional neural network\n",
    "network = input_data(shape=[None, 28, 28, 1],name='input')\n",
    "network = conv_2d(network, nb_filter=4, filter_size=5, activation='relu') \n",
    "network = max_pool_2d(network, 2)\n",
    "network = conv_2d(network, nb_filter=4, filter_size=5, activation='relu') \n",
    "network = max_pool_2d(network, 2)\n",
    "network = fully_connected(network, 128, activation='tanh')\n",
    "network = fully_connected(network, 128, activation='tanh')\n",
    "network = fully_connected(network, 10, activation='softmax')\n",
    "network = regression(network, optimizer='adam', learning_rate=0.01,loss='categorical_crossentropy', name='target')"
   ]
  },
  {
   "cell_type": "markdown",
   "metadata": {},
   "source": [
    "<div>\n",
    "<img src=\"https://i.stack.imgur.com/8CGlM.png\" height=\"450\" width=\"450\" style=\"display:inline\">\n",
    "<img src=\"http://www.20sim.com/webhelp/tanh_zoom60.jpg\" height=\"450\" width=\"450\" style=\"display:inline\">\n",
    "<img src=\"https://ooo.0o0.ooo/2017/04/17/58f45da1b5e6a.gif\" style=\"display:inline\">\n",
    "\n",
    "</div>"
   ]
  },
  {
   "cell_type": "code",
   "execution_count": 9,
   "metadata": {},
   "outputs": [
    {
     "name": "stdout",
     "output_type": "stream",
     "text": [
      "Training Step: 4299  | total loss: \u001b[1m\u001b[32m0.23985\u001b[0m\u001b[0m | time: 16.738s\n",
      "| Adam | epoch: 005 | loss: 0.23985 - acc: 0.9447 -- iter: 54976/55000\n",
      "Training Step: 4300  | total loss: \u001b[1m\u001b[32m0.23129\u001b[0m\u001b[0m | time: 18.339s\n",
      "| Adam | epoch: 005 | loss: 0.23129 - acc: 0.9471 | val_loss: 0.14696 - val_acc: 0.9581 -- iter: 55000/55000\n",
      "--\n"
     ]
    }
   ],
   "source": [
    "# Training\n",
    "model = tflearn.DNN(network, tensorboard_verbose=0)\n",
    "model.fit({'input': x}, {'target': y}, n_epoch=5,\n",
    "           validation_set=({'input': test_x}, {'target': test_y}), show_metric=True, run_id='convnet_mnist')\n"
   ]
  },
  {
   "cell_type": "code",
   "execution_count": 16,
   "metadata": {
    "scrolled": false
   },
   "outputs": [
    {
     "name": "stdout",
     "output_type": "stream",
     "text": [
      "(28, 28)\n",
      "float32\n"
     ]
    },
    {
     "data": {
      "image/png": "[encoded data removed]",
      "text/plain": [
       "<matplotlib.figure.Figure at 0x118bbf8d0>"
      ]
     },
     "metadata": {},
     "output_type": "display_data"
    },
    {
     "name": "stdout",
     "output_type": "stream",
     "text": [
      "[[3.8640601474071445e-07, 3.454874786257278e-06, 0.9994901418685913, 1.2826591046177782e-05, 4.190690674477082e-07, 4.030026801160602e-08, 7.264523560479574e-08, 0.0004874396836385131, 4.5438596316671465e-06, 5.545863359657233e-07]]\n",
      "prediction: 2\n"
     ]
    }
   ],
   "source": [
    "from scipy import misc \n",
    "\n",
    "image = misc.imread(\"test2.png\", flatten=True)  \n",
    "print(image.shape)\n",
    "print(image.dtype)\n",
    "#image = 1 - image\n",
    "image = image.reshape([-1, 28, 28, 1])\n",
    "\n",
    "imageTest = image\n",
    "imageTest = imageTest.reshape(28,28)\n",
    "plt.imshow(imageTest, cmap='gray')\n",
    "plt.show()\n",
    "\n",
    "imageTest = imageTest.reshape([-1,28,28,1])\n",
    "\n",
    "predict = model.predict({'input': imageTest})\n",
    "print(predict)\n",
    "print(\"prediction: \" + str(np.argmax(predict)))"
   ]
  },
  {
   "cell_type": "markdown",
   "metadata": {},
   "source": [
    "references: https://www.youtube.com/watch?v=FmpDIaiMIeA"
   ]
  },
  {
   "cell_type": "code",
   "execution_count": null,
   "metadata": {
    "collapsed": true
   },
   "outputs": [],
   "source": []
  }
 ],
 "metadata": {
  "kernelspec": {
   "display_name": "Python 2",
   "language": "python",
   "name": "python2"
  },
  "language_info": {
   "codemirror_mode": {
    "name": "ipython",
    "version": 2
   },
   "file_extension": ".py",
   "mimetype": "text/x-python",
   "name": "python",
   "nbconvert_exporter": "python",
   "pygments_lexer": "ipython2",
   "version": "2.7.13"
  }
 },
 "nbformat": 4,
 "nbformat_minor": 2
}
