{
 "cells": [
  {
   "cell_type": "code",
   "execution_count": 1,
   "metadata": {},
   "outputs": [
    {
     "name": "stdout",
     "output_type": "stream",
     "text": [
      "hdf5 is not supported on this machine (please install/reinstall h5py for optimal experience)\n"
     ]
    }
   ],
   "source": [
    "import numpy as np #arry manipulation library\n",
    "import matplotlib.pyplot as plt #graphing library\n",
    "import tflearn #import ML library\n",
    "from tflearn.layers.core import input_data, dropout, fully_connected\n",
    "from tflearn.layers.normalization import local_response_normalization\n",
    "from tflearn.layers.conv import conv_2d, max_pool_2d #convolution, max pooling\n",
    "from tflearn.layers.estimator import regression\n",
    "import tflearn.datasets.mnist as mnist #import data"
   ]
  },
  {
   "cell_type": "code",
   "execution_count": 2,
   "metadata": {},
   "outputs": [
    {
     "name": "stdout",
     "output_type": "stream",
     "text": [
      "Extracting mnist/train-images-idx3-ubyte.gz\n",
      "Extracting mnist/train-labels-idx1-ubyte.gz\n",
      "Extracting mnist/t10k-images-idx3-ubyte.gz\n",
      "Extracting mnist/t10k-labels-idx1-ubyte.gz\n"
     ]
    }
   ],
   "source": [
    "x,y,test_x,test_y = mnist.load_data(one_hot = True)"
   ]
  },
  {
   "cell_type": "markdown",
   "metadata": {},
   "source": [
    "One Hot Encoding with 10\n",
    "\n",
    "0 -> [1,0,0,0,0,0,0,0,0,0]\n",
    "<br>\n",
    "1 -> [0,1,0,0,0,0,0,0,0,0]\n",
    "<br>\n",
    "2 -> [0,0,1,0,0,0,0,0,0,0]\n",
    "<br>\n",
    "3 -> [0,0,0,1,0,0,0,0,0,0]\n",
    "<br>\n",
    "4 -> [0,0,0,0,1,0,0,0,0,0]\n",
    "<br>\n",
    "5 -> [0,0,0,0,0,1,0,0,0,0]\n",
    "<br>\n",
    "6 -> [0,0,0,0,0,0,1,0,0,0]\n",
    "<br>\n",
    "7 -> [0,0,0,0,0,0,0,1,0,0]\n",
    "<br>\n",
    "8 -> [0,0,0,0,0,0,0,0,1,0]\n",
    "<br>\n",
    "9 -> [0,0,0,0,0,0,0,0,0,1]"
   ]
  },
  {
   "cell_type": "code",
   "execution_count": 3,
   "metadata": {},
   "outputs": [
    {
     "data": {
      "image/png": "[encoded data removed]",
      "text/plain": [
       "<matplotlib.figure.Figure at 0x11630dfd0>"
      ]
     },
     "metadata": {},
     "output_type": "display_data"
    }
   ],
   "source": [
    "image1 = x[10]\n",
    "image2 = x[4]\n",
    "image1 = np.array(image1)\n",
    "image2 = np.array(image2)\n",
    "image1 = image1.reshape(28,28)\n",
    "image2 = image2.reshape(28,28)\n",
    "plt.subplot(121)\n",
    "plt.title('{label}'.format(label=y[10]))\n",
    "plt.imshow(image1, cmap='gray')\n",
    "plt.subplot(122)\n",
    "plt.title('{label}'.format(label=y[4]))\n",
    "plt.imshow(image2, cmap='gray')\n",
    "plt.tight_layout()\n",
    "plt.show()"
   ]
  },
  {
   "cell_type": "code",
   "execution_count": 5,
   "metadata": {},
   "outputs": [
    {
     "name": "stdout",
     "output_type": "stream",
     "text": [
      "55000\n"
     ]
    }
   ],
   "source": [
    "print(x.shape[0])"
   ]
  },
  {
   "cell_type": "code",
   "execution_count": 6,
   "metadata": {
    "collapsed": true
   },
   "outputs": [],
   "source": [
    "x = x.reshape([-1, 28, 28, 1])\n",
    "test_x = test_x.reshape([-1, 28, 28, 1])"
   ]
  },
  {
   "cell_type": "code",
   "execution_count": 7,
   "metadata": {},
   "outputs": [
    {
     "name": "stdout",
     "output_type": "stream",
     "text": [
      "(55000, 28, 28, 1)\n"
     ]
    }
   ],
   "source": [
    "print(x.shape)"
   ]
  },
  {
   "cell_type": "markdown",
   "metadata": {},
   "source": [
    "<center>\n",
    "    <h1>Architecture</h1>\n",
    "    <img src=\"http://www.pyimagesearch.com/wp-content/uploads/2014/06/cnn_architecture.jpg\" height=\"900\" width=\"900\">\n",
    "</center>\n",
    "<br>"
   ]
  },
  {
   "cell_type": "code",
   "execution_count": 8,
   "metadata": {
    "collapsed": true
   },
   "outputs": [],
   "source": [
    "# Building the convolutional neural network\n",
    "network = input_data(shape=[None, 28, 28, 1],name='input') #input layer\n",
    "\n",
    "network = conv_2d(network, nb_filter=4, filter_size=5, activation='relu')  #conv layer with 4 5x5 conv kernels and rectifier activiation\n",
    "network = max_pool_2d(network, 2) #max pool subsampling layer with 2x2 sampling window \n",
    "\n",
    "network = conv_2d(network, nb_filter=4, filter_size=5, activation='relu')  #conv layer with 4 5x5 conv kernels and rectifier activiation\n",
    "network = max_pool_2d(network, 2) #max pool subsampling layer with 2x2 sampling window \n",
    "\n",
    "network = fully_connected(network, 128, activation='tanh') #fully connected layer with 128 neurons and tanh activation function\n",
    "\n",
    "network = fully_connected(network, 10, activation='softmax') #output layer with 10 neurons and softmax activation function\n",
    "\n",
    "network = regression(network, optimizer='adam', learning_rate=0.01, loss='categorical_crossentropy', name='target') #regression layer with adam optimizer and crossentropy loss function\n",
    "\n",
    "model = tflearn.DNN(network, tensorboard_verbose=0)"
   ]
  },
  {
   "cell_type": "markdown",
   "metadata": {},
   "source": [
    "<h1>Training</h1>"
   ]
  },
  {
   "cell_type": "code",
   "execution_count": 9,
   "metadata": {},
   "outputs": [
    {
     "name": "stdout",
     "output_type": "stream",
     "text": [
      "Training Step: 4299  | total loss: \u001b[1m\u001b[32m0.23708\u001b[0m\u001b[0m | time: 20.230s\n",
      "| Adam | epoch: 005 | loss: 0.23708 - acc: 0.9455 -- iter: 54976/55000\n",
      "Training Step: 4300  | total loss: \u001b[1m\u001b[32m0.22711\u001b[0m\u001b[0m | time: 21.798s\n",
      "| Adam | epoch: 005 | loss: 0.22711 - acc: 0.9478 | val_loss: 0.10935 - val_acc: 0.9657 -- iter: 55000/55000\n",
      "--\n"
     ]
    }
   ],
   "source": [
    "model.fit({'input': x}, {'target': y}, n_epoch=5,\n",
    "           validation_set=({'input': test_x}, {'target': test_y}), show_metric=True, run_id='convnet_mnist')"
   ]
  },
  {
   "cell_type": "markdown",
   "metadata": {},
   "source": [
    "<h1>Testing</h1>\n",
    "\n",
    "Create a test image: http://www.onemotion.com/flash/sketch-paint/"
   ]
  },
  {
   "cell_type": "code",
   "execution_count": null,
   "metadata": {
    "scrolled": false
   },
   "outputs": [],
   "source": [
    "from scipy import misc \n",
    "\n",
    "image = misc.imread(\"test2.png\", flatten=True)  \n",
    "print(image.shape)\n",
    "print(image.dtype)\n",
    "#image = 1 - image\n",
    "image = image.reshape(28,28)\n",
    "plt.imshow(image, cmap='gray')\n",
    "plt.show()\n",
    "\n",
    "image = image.reshape([-1,28,28,1])\n",
    "\n",
    "predict = model.predict({'input': image})\n",
    "\n",
    "print(np.round_(predict, decimals=3))\n",
    "print(\"prediction: \" + str(np.argmax(predict)))"
   ]
  },
  {
   "cell_type": "markdown",
   "metadata": {},
   "source": [
    "<h1>References</h1>\n",
    "<br>\n",
    "https://github.com/tflearn/tflearn/blob/master/examples/images/convnet_mnist.py\n",
    "<br>\n",
    "https://www.youtube.com/watch?v=FmpDIaiMIeA"
   ]
  }
 ],
 "metadata": {
  "kernelspec": {
   "display_name": "Python 2",
   "language": "python",
   "name": "python2"
  },
  "language_info": {
   "codemirror_mode": {
    "name": "ipython",
    "version": 2
   },
   "file_extension": ".py",
   "mimetype": "text/x-python",
   "name": "python",
   "nbconvert_exporter": "python",
   "pygments_lexer": "ipython2",
   "version": "2.7.13"
  }
 },
 "nbformat": 4,
 "nbformat_minor": 2
}
